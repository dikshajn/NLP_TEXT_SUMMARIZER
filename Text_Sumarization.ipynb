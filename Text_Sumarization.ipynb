{
  "nbformat": 4,
  "nbformat_minor": 0,
  "metadata": {
    "colab": {
      "name": "Text Sumarization",
      "provenance": [],
      "collapsed_sections": []
    },
    "kernelspec": {
      "display_name": "Python 3",
      "name": "python3"
    },
    "accelerator": "GPU"
  },
  "cells": [
    {
      "cell_type": "code",
      "metadata": {
        "id": "5LRxUGrp0pq8",
        "colab_type": "code",
        "colab": {
          "base_uri": "https://localhost:8080/",
          "height": 33
        },
        "outputId": "ac7c7ee4-5be1-4da3-84d7-e66b31a5d6a4"
      },
      "source": [
        "from google.colab import drive\n",
        "drive.mount(\"/content/drive\", force_remount=True)"
      ],
      "execution_count": 1,
      "outputs": [
        {
          "output_type": "stream",
          "text": [
            "Mounted at /content/drive\n"
          ],
          "name": "stdout"
        }
      ]
    },
    {
      "cell_type": "code",
      "metadata": {
        "id": "2J9BmmPB004h",
        "colab_type": "code",
        "colab": {}
      },
      "source": [
        "import os\n",
        "os.chdir(\"drive/My Drive/PROJECT/Text Sumarization\")"
      ],
      "execution_count": 2,
      "outputs": []
    },
    {
      "cell_type": "markdown",
      "metadata": {
        "id": "RLheT2osSUzg",
        "colab_type": "text"
      },
      "source": [
        "**Instaling required package**"
      ]
    },
    {
      "cell_type": "code",
      "metadata": {
        "id": "EV-WVlQz1oue",
        "colab_type": "code",
        "colab": {}
      },
      "source": [
        "!pip install transformers==2.11.0 \\pyrouge==0.1.3 \\sentence-transformers==0.2.6.2"
      ],
      "execution_count": null,
      "outputs": []
    },
    {
      "cell_type": "markdown",
      "metadata": {
        "id": "lsbUCddJSrf7",
        "colab_type": "text"
      },
      "source": [
        "**Install pyrouge 1.5.5**"
      ]
    },
    {
      "cell_type": "code",
      "metadata": {
        "id": "TF6xR9gLP_ex",
        "colab_type": "code",
        "colab": {}
      },
      "source": [
        "!git clone https://github.com/andersjo/pyrouge.git\n",
        "%cd pyrouge/tools/ROUGE-1.5.5/data\n",
        "!rm WordNet-2.0.exc.db\n",
        "!perl WordNet-2.0-Exceptions/buildExeptionDB.pl ./WordNet-2.0-Exceptions ./smart_common_words.txt ./WordNet-2.0.exc.db\n",
        "!cd .\n",
        "os.chdir(\"/content/drive/My Drive/PROJECT/Text Sumarization\")\n",
        "!chmod 755 \"/content/drive/My Drive/TextSumarization/pyrouge/tools/ROUGE-1.5.5/ROUGE-1.5.5.pl\"\n",
        "!chmod 755 \"/content/drive/My Drive/TextSumarization/pyrouge/tools/ROUGE-1.5.5/data/WordNet-1.6-Exceptions/buildExeptionDB.pl\"\n",
        "!chmod 755 \"/content/drive/My Drive/TextSumarization/pyrouge/tools/ROUGE-1.5.5/data/WordNet-2.0-Exceptions/buildExeptionDB.pl\"\n",
        "!sudo apt-get install libxml-parser-perl"
      ],
      "execution_count": null,
      "outputs": []
    },
    {
      "cell_type": "markdown",
      "metadata": {
        "id": "AxzoNFGITena",
        "colab_type": "text"
      },
      "source": [
        "**Creating a folder to evaluate your model.**"
      ]
    },
    {
      "cell_type": "code",
      "metadata": {
        "id": "Ijcs_ipLTd85",
        "colab_type": "code",
        "colab": {}
      },
      "source": [
        "n_folds = 5\n",
        "os.mkdir(\"./evaluation\")\n",
        "os.mkdir(\"./evaluation/system_summaries\")\n",
        "os.mkdir(\"./evaluation/model_summaries\")\n",
        "for i in range(n_folds):\n",
        "    os.mkdir('./evaluation/system_summaries/' + str(i))\n",
        "    os.mkdir('./evaluation/model_summaries/' + str(i))"
      ],
      "execution_count": 3,
      "outputs": []
    },
    {
      "cell_type": "markdown",
      "metadata": {
        "id": "oZX3ihVcWXYa",
        "colab_type": "text"
      },
      "source": [
        "**Training your model.**"
      ]
    },
    {
      "cell_type": "code",
      "metadata": {
        "id": "DWWzy9Pg2Fn0",
        "colab_type": "code",
        "colab": {}
      },
      "source": [
        "!python main.py"
      ],
      "execution_count": null,
      "outputs": []
    }
  ]
}